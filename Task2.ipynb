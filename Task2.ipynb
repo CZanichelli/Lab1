{
 "cells": [
  {
   "cell_type": "markdown",
   "metadata": {},
   "source": [
    "## Task 2"
   ]
  },
  {
   "cell_type": "code",
   "execution_count": 8,
   "metadata": {},
   "outputs": [
    {
     "name": "stdout",
     "output_type": "stream",
     "text": [
      ">seq1\n",
      "cGTAaccaataaaaaaacaagcttaacctaattc\n",
      ">seq2\n",
      "agcttagTTTGGatctggccgggg\n",
      ">seq3\n",
      "gcggatttactcCCCCCAAAAANNaggggagagcccagataaatggagtctgtgcgtccaca\n",
      "gaattcgcacca\n",
      "AATAAAACCTCACCCAT\n",
      "agagcccagaatttactcCCC\n",
      ">seq4\n",
      "gcggatttactcaggggagagcccagGGataaatggagtctgtgcgtccaca\n",
      "gaattcgcacca\n"
     ]
    }
   ],
   "source": [
    "with open(\"dna_raw_complicated.txt\", \"r\") as file:\n",
    "    lines = file.readlines() \n",
    "\n",
    "for line in lines:\n",
    "    print(line.strip()) #Removing unnecessary spaceses and rows"
   ]
  },
  {
   "cell_type": "code",
   "execution_count": 7,
   "metadata": {},
   "outputs": [
    {
     "name": "stdout",
     "output_type": "stream",
     "text": [
      "This is an sequence-ID:  >seq1\n",
      "This is an sequence:  cGTAaccaataaaaaaacaagcttaacctaattc\n",
      "This is an sequence-ID:  >seq2\n",
      "This is an sequence:  agcttagTTTGGatctggccgggg\n",
      "This is an sequence-ID:  >seq3\n",
      "This is an sequence:  gcggatttactcCCCCCAAAAANNaggggagagcccagataaatggagtctgtgcgtccaca\n",
      "This is an sequence:  gaattcgcacca\n",
      "This is an sequence:  AATAAAACCTCACCCAT\n",
      "This is an sequence:  agagcccagaatttactcCCC\n",
      "This is an sequence-ID:  >seq4\n",
      "This is an sequence:  gcggatttactcaggggagagcccagGGataaatggagtctgtgcgtccaca\n",
      "This is an sequence:  gaattcgcacca\n"
     ]
    }
   ],
   "source": [
    "for line in lines:\n",
    "    if line.startswith(\">\"):\n",
    "        print(\"This is an sequence-ID: \", line.strip()) #if the line start with > is an sequence-ID\n",
    "    else:\n",
    "        print(\"This is an sequence: \", line.strip()) #if the line starts without > is an sequence\n"
   ]
  },
  {
   "cell_type": "code",
   "execution_count": 6,
   "metadata": {},
   "outputs": [
    {
     "name": "stdout",
     "output_type": "stream",
     "text": [
      "{'>seq1': 'cGTAaccaataaaaaaacaagcttaacctaattc', '>seq2': 'agcttagTTTGGatctggccgggg', '>seq3': 'gcggatttactcCCCCCAAAAANNaggggagagcccagataaatggagtctgtgcgtccacagaattcgcaccaAATAAAACCTCACCCATagagcccagaatttactcCCC', '>seq4': 'gcggatttactcaggggagagcccagGGataaatggagtctgtgcgtccacagaattcgcacca'}\n"
     ]
    }
   ],
   "source": [
    "sequences = {}\n",
    "\n",
    "current_id = None # checking which id we are currently working with \n",
    "\n",
    "for line in lines:\n",
    "    line = line.strip()\n",
    "\n",
    "    if line.startswith (\">\"): #new seqID\n",
    "        current_id = line\n",
    "        sequences[current_id] = \"\" # create empty str for seq\n",
    "    else: #this is an DNA-seq row\n",
    "        sequences[current_id] += line #adding to the current seq\n",
    "\n",
    "print(sequences)"
   ]
  },
  {
   "cell_type": "code",
   "execution_count": 12,
   "metadata": {},
   "outputs": [
    {
     "name": "stdout",
     "output_type": "stream",
     "text": [
      ">seq1: {'a': 17, 't': 7, 'c': 8, 'g': 2}\n",
      ">seq2: {'a': 3, 't': 7, 'c': 4, 'g': 10}\n",
      ">seq3: {'a': 36, 't': 19, 'c': 34, 'g': 21}\n",
      ">seq4: {'a': 17, 't': 12, 'c': 15, 'g': 20}\n"
     ]
    }
   ],
   "source": [
    "for seq_id, sequence in sequences.items(): #count ever letter in the sequence\n",
    "    sequence = sequence.lower() # make every letter to small letters to avoid problems with small and capital letters\n",
    "    letter_counts = {\"a\": 0, \"t\": 0, \"c\": 0, \"g\": 0,} #create dictionary to count a, t, c, g\n",
    "\n",
    "    for letter in sequence:\n",
    "        if letter in letter_counts:\n",
    "            letter_counts[letter] += 1\n",
    "\n",
    "    print(f\"{seq_id}: {letter_counts}\")\n",
    "\n",
    "\n"
   ]
  },
  {
   "cell_type": "code",
   "execution_count": null,
   "metadata": {},
   "outputs": [],
   "source": [
    "def process_dna_file(filename):\n",
    "    sequences = {} #dictionary to store the seqs\n",
    "    current_id = None\n",
    "    current_sequence = \"\" # To store the seqs when it covers multiple rows\n",
    "\n",
    "    with open(filename, \"r\") as file:\n",
    "        lines = file.readlines()\n",
    "\n",
    "    for line in lines:\n",
    "        line = line.strip()\n",
    "\n",
    "        if line.startswith(\">\"): #new seq starts here\n",
    "            if current_id is not None:\n",
    "                sequences[current_id] = current_sequence # Saves the previous seq\n",
    "\n"
   ]
  }
 ],
 "metadata": {
  "kernelspec": {
   "display_name": ".venv",
   "language": "python",
   "name": "python3"
  },
  "language_info": {
   "codemirror_mode": {
    "name": "ipython",
    "version": 3
   },
   "file_extension": ".py",
   "mimetype": "text/x-python",
   "name": "python",
   "nbconvert_exporter": "python",
   "pygments_lexer": "ipython3",
   "version": "3.12.2"
  }
 },
 "nbformat": 4,
 "nbformat_minor": 2
}
