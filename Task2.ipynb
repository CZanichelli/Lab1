{
 "cells": [
  {
   "cell_type": "markdown",
   "metadata": {},
   "source": [
    "## Task 2"
   ]
  },
  {
   "cell_type": "code",
   "execution_count": null,
   "metadata": {},
   "outputs": [],
   "source": [
    "def process_dna_file(filename):\n",
    "    sequences = {}  # dictionary to store the seqs\n",
    "    current_id = None\n",
    "    current_sequence = \"\"  # To store the seqs when it covers multiple rows\n",
    "\n",
    "    with open(filename, \"r\") as file:\n",
    "        lines = file.readlines()\n",
    "\n",
    "    for line in lines:\n",
    "        line = line.strip()\n",
    "\n",
    "        if line.startswith(\">\"):  # new seq starts here\n",
    "            if current_id is not None:\n",
    "                sequences[current_id] = current_sequence  # Saves the previous seq\n",
    "\n",
    "            current_id = line  # updates seqID\n",
    "            current_sequence = \"\"  # resets the seq\n",
    "        else:\n",
    "            current_sequence += line  # adding the seq row to the current seq\n",
    "\n",
    "        if current_id is not None: #add the last seq\n",
    "            sequences[current_id] = current_sequence\n",
    "\n",
    "    return sequences\n",
    "\n",
    "\n",
    "def count_letters (sequence):\n",
    "    letter_counts ={\"a\": 0, \"t\": 0, \"c\": 0, \"g\": 0} #create dictionary to count a,t,c,g\n",
    "\n",
    "    for letter in sequence.lower(): \n",
    "        if letter in letter_counts:\n",
    "            letter_counts[letter]+= 1\n",
    "    \n",
    "    return letter_counts"
   ]
  },
  {
   "cell_type": "code",
   "execution_count": 38,
   "metadata": {},
   "outputs": [
    {
     "name": "stdout",
     "output_type": "stream",
     "text": [
      ">seq1: cGTAaccaataaaaaaacaagcttaacctaattc:\n",
      "Frequencies: {'a': 17, 't': 7, 'c': 8, 'g': 2}\n",
      ">seq2: agcttagTTTGGatctggccgggg:\n",
      "Frequencies: {'a': 3, 't': 7, 'c': 4, 'g': 10}\n",
      ">seq3: gcggatttactcCCCCCAAAAANNaggggagagcccagataaatggagtctgtgcgtccacagaattcgcaccaAATAAAACCTCACCCATagagcccagaatttactcCCC:\n",
      "Frequencies: {'a': 36, 't': 19, 'c': 34, 'g': 21}\n",
      ">seq4: gcggatttactcaggggagagcccagGGataaatggagtctgtgcgtccacagaattcgcacca:\n",
      "Frequencies: {'a': 17, 't': 12, 'c': 15, 'g': 20}\n"
     ]
    }
   ],
   "source": [
    "filename = \"dna_raw_complicated.txt\" #taking in my txt file\n",
    "sequences = process_dna_file(filename) #using my function on the txt file\n",
    "\n",
    "for seq_id, sequence in sequences.items(): #print the result:\n",
    "    print(f\"{seq_id}: {sequence}:\")\n",
    "    letter_counts = count_letters(sequence)\n",
    "    print(f\"Frequencies: {letter_counts}\")"
   ]
  }
 ],
 "metadata": {
  "kernelspec": {
   "display_name": ".venv",
   "language": "python",
   "name": "python3"
  },
  "language_info": {
   "codemirror_mode": {
    "name": "ipython",
    "version": 3
   },
   "file_extension": ".py",
   "mimetype": "text/x-python",
   "name": "python",
   "nbconvert_exporter": "python",
   "pygments_lexer": "ipython3",
   "version": "3.12.2"
  }
 },
 "nbformat": 4,
 "nbformat_minor": 2
}
