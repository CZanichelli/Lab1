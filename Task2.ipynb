{
 "cells": [
  {
   "cell_type": "markdown",
   "metadata": {},
   "source": [
    "## Task 2"
   ]
  },
  {
   "cell_type": "code",
   "execution_count": 4,
   "metadata": {},
   "outputs": [
    {
     "name": "stdout",
     "output_type": "stream",
     "text": [
      ">seq1\n",
      "cGTAaccaataaaaaaacaagcttaacctaattc\n",
      ">seq2\n",
      "agcttagTTTGGatctggccgggg\n",
      ">seq3\n",
      "gcggatttactcCCCCCAAAAANNaggggagagcccagataaatggagtctgtgcgtccaca\n",
      "gaattcgcacca\n",
      "AATAAAACCTCACCCAT\n",
      "agagcccagaatttactcCCC\n",
      ">seq4\n",
      "gcggatttactcaggggagagcccagGGataaatggagtctgtgcgtccaca\n",
      "gaattcgcacca\n"
     ]
    }
   ],
   "source": [
    "with open(\"dna_raw_complicated.txt\", \"r\") as file:\n",
    "    lines = file.readlines() \n",
    "\n",
    "for line in lines:\n",
    "    print(line.strip()) #Removing unnecessary spaceses and rows"
   ]
  },
  {
   "cell_type": "code",
   "execution_count": 2,
   "metadata": {},
   "outputs": [
    {
     "name": "stdout",
     "output_type": "stream",
     "text": [
      "This is an sequence-ID:  >seq1\n",
      "This is an sequence:  cGTAaccaataaaaaaacaagcttaacctaattc\n",
      "This is an sequence-ID:  >seq2\n",
      "This is an sequence:  agcttagTTTGGatctggccgggg\n",
      "This is an sequence-ID:  >seq3\n",
      "This is an sequence:  gcggatttactcCCCCCAAAAANNaggggagagcccagataaatggagtctgtgcgtccaca\n",
      "This is an sequence:  gaattcgcacca\n",
      "This is an sequence:  AATAAAACCTCACCCAT\n",
      "This is an sequence:  agagcccagaatttactcCCC\n",
      "This is an sequence-ID:  >seq4\n",
      "This is an sequence:  gcggatttactcaggggagagcccagGGataaatggagtctgtgcgtccaca\n",
      "This is an sequence:  gaattcgcacca\n"
     ]
    }
   ],
   "source": [
    "for line in lines:\n",
    "    if line.startswith(\">\"):\n",
    "        print(\"This is an sequence-ID: \", line.strip()) #if the line start with > is an sequence-ID\n",
    "    else:\n",
    "        print(\"This is an sequence: \", line.strip()) #if the line starts without > is an sequence\n"
   ]
  },
  {
   "cell_type": "code",
   "execution_count": 3,
   "metadata": {},
   "outputs": [
    {
     "name": "stdout",
     "output_type": "stream",
     "text": [
      "{'>seq1': 'cGTAaccaataaaaaaacaagcttaacctaattc', '>seq2': 'agcttagTTTGGatctggccgggg', '>seq3': 'gcggatttactcCCCCCAAAAANNaggggagagcccagataaatggagtctgtgcgtccacagaattcgcaccaAATAAAACCTCACCCATagagcccagaatttactcCCC', '>seq4': 'gcggatttactcaggggagagcccagGGataaatggagtctgtgcgtccacagaattcgcacca'}\n"
     ]
    }
   ],
   "source": [
    "sequences = {}\n",
    "\n",
    "current_id = None # checking which id we are currently working with \n",
    "\n",
    "for line in lines:\n",
    "    line = line.strip()\n",
    "\n",
    "    if line.startswith (\">\"): #new seqID\n",
    "        current_id = line\n",
    "        sequences[current_id] = \"\" # create empty str for seq\n",
    "    else: #this is an DNA-seq row\n",
    "        sequences[current_id] += line #adding to the current seq\n",
    "\n",
    "print(sequences)"
   ]
  }
 ],
 "metadata": {
  "kernelspec": {
   "display_name": ".venv",
   "language": "python",
   "name": "python3"
  },
  "language_info": {
   "codemirror_mode": {
    "name": "ipython",
    "version": 3
   },
   "file_extension": ".py",
   "mimetype": "text/x-python",
   "name": "python",
   "nbconvert_exporter": "python",
   "pygments_lexer": "ipython3",
   "version": "3.12.2"
  }
 },
 "nbformat": 4,
 "nbformat_minor": 2
}
